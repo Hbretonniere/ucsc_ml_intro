{
 "cells": [
  {
   "cell_type": "markdown",
   "id": "5f88e882",
   "metadata": {},
   "source": [
    "# Intro to Variational Auto Encoder"
   ]
  },
  {
   "cell_type": "markdown",
   "id": "851d2577",
   "metadata": {},
   "source": [
    "<a href=\"https://colab.research.google.com/github/hbretonniere/ucsc_ml_intro/blob/master/tensorflow/VAE_mnist.ipynb\" target=\"_parent\"><img src=\"https://colab.research.google.com/assets/colab-badge.svg\" alt=\"Open In Colab\"/></a>"
   ]
  },
  {
   "cell_type": "code",
   "execution_count": 12,
   "id": "curious-compilation",
   "metadata": {
    "executionInfo": {
     "elapsed": 181,
     "status": "ok",
     "timestamp": 1695500912018,
     "user": {
      "displayName": "Hubert Bretonnière",
      "userId": "08002742844158188485"
     },
     "user_tz": 420
    },
    "id": "curious-compilation"
   },
   "outputs": [],
   "source": [
    "import numpy as np\n",
    "import tensorflow as tf\n",
    "from tensorflow import keras as tfk\n",
    "from tensorflow.keras import layers\n",
    "from tqdm import trange\n",
    "import matplotlib.pyplot as plt\n",
    "import tensorflow_probability as tfp\n",
    "from tensorflow.python import debug as tf_debug\n",
    "tfd = tfp.distributions\n",
    "tf.keras.backend.clear_session()  # For easy reset of notebook state.\n"
   ]
  },
  {
   "cell_type": "markdown",
   "id": "a4dba61a",
   "metadata": {},
   "source": [
    "# Check tf and tensorflow proba versions"
   ]
  },
  {
   "cell_type": "code",
   "execution_count": 10,
   "id": "limited-sarah",
   "metadata": {
    "colab": {
     "base_uri": "https://localhost:8080/",
     "height": 36
    },
    "executionInfo": {
     "elapsed": 9,
     "status": "ok",
     "timestamp": 1695500912276,
     "user": {
      "displayName": "Hubert Bretonnière",
      "userId": "08002742844158188485"
     },
     "user_tz": 420
    },
    "id": "limited-sarah",
    "outputId": "4a44ae83-c97a-48dd-c4ed-f3e34f0a1e28"
   },
   "outputs": [
    {
     "data": {
      "text/plain": [
       "'2.11.0'"
      ]
     },
     "execution_count": 10,
     "metadata": {},
     "output_type": "execute_result"
    }
   ],
   "source": [
    "tf.__version__"
   ]
  },
  {
   "cell_type": "code",
   "execution_count": 11,
   "id": "8938fbda",
   "metadata": {
    "colab": {
     "base_uri": "https://localhost:8080/",
     "height": 36
    },
    "executionInfo": {
     "elapsed": 14,
     "status": "ok",
     "timestamp": 1695500912566,
     "user": {
      "displayName": "Hubert Bretonnière",
      "userId": "08002742844158188485"
     },
     "user_tz": 420
    },
    "id": "8938fbda",
    "outputId": "3e26e343-ed8b-4e6b-e029-b1c5c11f2f8d"
   },
   "outputs": [
    {
     "data": {
      "text/plain": [
       "'0.18.0'"
      ]
     },
     "execution_count": 11,
     "metadata": {},
     "output_type": "execute_result"
    }
   ],
   "source": [
    "\n",
    "tfp.__version__"
   ]
  },
  {
   "cell_type": "markdown",
   "id": "d5e5cbd7",
   "metadata": {},
   "source": [
    "## Encoder\n",
    "\n",
    "We create a simple Encoder, but with a simple change from the AE's one: we don't output a vector of `latend_dim` dimension, but of `2*latent_dim`: the means and sigmas of the multivariate distribution that we will create in the decoder."
   ]
  },
  {
   "cell_type": "code",
   "execution_count": 13,
   "id": "acquired-scout",
   "metadata": {
    "executionInfo": {
     "elapsed": 12,
     "status": "ok",
     "timestamp": 1695500912569,
     "user": {
      "displayName": "Hubert Bretonnière",
      "userId": "08002742844158188485"
     },
     "user_tz": 420
    },
    "id": "acquired-scout"
   },
   "outputs": [],
   "source": [
    "def encoder(latent_dim):\n",
    "\n",
    "    encoder_input = tfk.Input(shape=(28, 28, 1))\n",
    "\n",
    "    x = layers.Conv2D(8, (3,3), 2, 'SAME', activation='relu')(encoder_input)\n",
    "    x = layers.Conv2D(16, (3,3), 2, 'SAME', activation='relu')(x)\n",
    "    # x = layers.Conv2D(64, (3,3), 2, 'SAME', activation='relu')(x)\n",
    "    x = layers.Flatten()(x)\n",
    "    # x = layers.Dense(16, activation='relu')(x)\n",
    "    x = layers.Dense(2*latent_dim)(x)\n",
    "\n",
    "    encoder_output = x\n",
    "    Encoder = tfk.Model(encoder_input, encoder_output, name='encoder_VAE_MNIST')\n",
    "    return Encoder, encoder_output\n"
   ]
  },
  {
   "cell_type": "markdown",
   "id": "dc6dd503",
   "metadata": {},
   "source": [
    "## Choose the latent dimension of the VAE. \n",
    "Powers of two are better !"
   ]
  },
  {
   "cell_type": "code",
   "execution_count": 14,
   "id": "passive-familiar",
   "metadata": {
    "executionInfo": {
     "elapsed": 9,
     "status": "ok",
     "timestamp": 1695500912890,
     "user": {
      "displayName": "Hubert Bretonnière",
      "userId": "08002742844158188485"
     },
     "user_tz": 420
    },
    "id": "passive-familiar"
   },
   "outputs": [],
   "source": [
    "latent_dim = 8"
   ]
  },
  {
   "cell_type": "code",
   "execution_count": 15,
   "id": "sporting-january",
   "metadata": {
    "colab": {
     "base_uri": "https://localhost:8080/"
    },
    "executionInfo": {
     "elapsed": 271,
     "status": "ok",
     "timestamp": 1695500913153,
     "user": {
      "displayName": "Hubert Bretonnière",
      "userId": "08002742844158188485"
     },
     "user_tz": 420
    },
    "id": "sporting-january",
    "outputId": "91354dda-6058-4c52-f07f-7e61861b1bd0"
   },
   "outputs": [
    {
     "name": "stdout",
     "output_type": "stream",
     "text": [
      "Model: \"encoder_VAE_MNIST\"\n",
      "_________________________________________________________________\n",
      " Layer (type)                Output Shape              Param #   \n",
      "=================================================================\n",
      " input_1 (InputLayer)        [(None, 28, 28, 1)]       0         \n",
      "                                                                 \n",
      " conv2d (Conv2D)             (None, 14, 14, 8)         80        \n",
      "                                                                 \n",
      " conv2d_1 (Conv2D)           (None, 7, 7, 16)          1168      \n",
      "                                                                 \n",
      " flatten (Flatten)           (None, 784)               0         \n",
      "                                                                 \n",
      " dense (Dense)               (None, 16)                12560     \n",
      "                                                                 \n",
      "=================================================================\n",
      "Total params: 13,808\n",
      "Trainable params: 13,808\n",
      "Non-trainable params: 0\n",
      "_________________________________________________________________\n"
     ]
    },
    {
     "name": "stderr",
     "output_type": "stream",
     "text": [
      "2024-04-22 16:15:44.992233: I tensorflow/core/platform/cpu_feature_guard.cc:193] This TensorFlow binary is optimized with oneAPI Deep Neural Network Library (oneDNN) to use the following CPU instructions in performance-critical operations:  AVX2 FMA\n",
      "To enable them in other operations, rebuild TensorFlow with the appropriate compiler flags.\n"
     ]
    }
   ],
   "source": [
    "Encoder, encoder_output = encoder(latent_dim)\n",
    "Encoder.summary()"
   ]
  },
  {
   "cell_type": "markdown",
   "id": "a89dac34",
   "metadata": {},
   "source": [
    "## Decoder\n",
    "\n",
    "Here we create the decoder for the VAE. We have to add the creation of the distribution and the sample.\n",
    "to do so, we use the super powerful TensorFlow Probability package.\n",
    "Doing so, we can create a tfp distribution, where we pass the mus and sigmas as argument. check the tfp.layers.DistributionLambda doc for more info.\n",
    "We also use the reparameterization trick (check on the web, there is a lot of good blog post explaining what it is and why we need it, e.g. https://stats.stackexchange.com/questions/199605/how-does-the-reparameterization-trick-for-vaes-work-and-why-is-it-important).\n",
    "\n"
   ]
  },
  {
   "cell_type": "code",
   "execution_count": 17,
   "id": "valid-swiss",
   "metadata": {
    "executionInfo": {
     "elapsed": 9,
     "status": "ok",
     "timestamp": 1695500913154,
     "user": {
      "displayName": "Hubert Bretonnière",
      "userId": "08002742844158188485"
     },
     "user_tz": 420
    },
    "id": "valid-swiss"
   },
   "outputs": [],
   "source": [
    "def decoder(encoder_output, latent_dim):\n",
    "\n",
    "    decoder_input = tfk.Input(shape=encoder_output.shape[1:]) #ignore batch size\n",
    "    x = tfp.layers.DistributionLambda(make_distribution_fn=lambda t:\\\n",
    "             tfd.MultivariateNormalDiag(loc=t[..., :latent_dim], scale_diag=tf.exp(t[..., latent_dim:])),\n",
    "             convert_to_tensor_fn=lambda s: s.sample())(decoder_input)\n",
    "\n",
    "    z_mean = decoder_input[..., :latent_dim]\n",
    "    z_log_var = decoder_input[..., latent_dim:]\n",
    "    batch = tf.shape(z_mean)[0]\n",
    "    dim = tf.shape(z_mean)[1]\n",
    "    epsilon = tf.keras.backend.random_normal(shape=(batch, dim)) # reparameterization trick\n",
    "    \n",
    "    # this is the sample of the atent space, the rest is a simple decoder as we did for the AE.\n",
    "    x = z_mean + tf.exp(0.5 * z_log_var) * epsilon\n",
    "\n",
    "\n",
    "    x = layers.Dense(7 * 7 * 64, activation='relu')(x)\n",
    "    x = layers.Reshape((7, 7, 64))(x)\n",
    "    x = layers.Conv2DTranspose(32, 3, activation='relu', strides=2, padding='same')(x)\n",
    "    x = layers.Conv2DTranspose(16, 3, activation='relu', strides=2, padding='same')(x)\n",
    "    x = layers.Conv2D(1, 3, activation='sigmoid', strides=1, padding='same')(x)\n",
    "#     out_2 = layers.Conv2D(1, 3, activation='sigmoid', strides=1, padding='same')(x)\n",
    "    decoder_output = x\n",
    "    Decoder = tfk.Model(inputs=decoder_input, outputs=x, name='decoder_VAE_MNIST')\n",
    "    return Decoder"
   ]
  },
  {
   "cell_type": "code",
   "execution_count": 19,
   "id": "grateful-wellington",
   "metadata": {
    "colab": {
     "base_uri": "https://localhost:8080/"
    },
    "executionInfo": {
     "elapsed": 420,
     "status": "ok",
     "timestamp": 1695500913567,
     "user": {
      "displayName": "Hubert Bretonnière",
      "userId": "08002742844158188485"
     },
     "user_tz": 420
    },
    "id": "grateful-wellington",
    "outputId": "3cc4fbd6-87ad-4fb4-a91b-f895d077a232"
   },
   "outputs": [],
   "source": [
    "Decoder = decoder(encoder_output, latent_dim)\n"
   ]
  },
  {
   "cell_type": "markdown",
   "id": "695944cd",
   "metadata": {},
   "source": [
    "# VAE model\n",
    "We can know wrap the encoder and decoder into a global keras model:"
   ]
  },
  {
   "cell_type": "code",
   "execution_count": 20,
   "id": "committed-beatles",
   "metadata": {
    "colab": {
     "base_uri": "https://localhost:8080/"
    },
    "executionInfo": {
     "elapsed": 164,
     "status": "ok",
     "timestamp": 1695500913724,
     "user": {
      "displayName": "Hubert Bretonnière",
      "userId": "08002742844158188485"
     },
     "user_tz": 420
    },
    "id": "committed-beatles",
    "outputId": "772a521c-e5df-40b2-a834-43c40358ff0f"
   },
   "outputs": [
    {
     "name": "stdout",
     "output_type": "stream",
     "text": [
      "Model: \"mnist_vae\"\n",
      "_________________________________________________________________\n",
      " Layer (type)                Output Shape              Param #   \n",
      "=================================================================\n",
      " input_4 (InputLayer)        [(None, 28, 28, 1)]       0         \n",
      "                                                                 \n",
      " encoder_VAE_MNIST (Function  (None, 16)               13808     \n",
      " al)                                                             \n",
      "                                                                 \n",
      " decoder_VAE_MNIST (Function  (None, 28, 28, 1)        51457     \n",
      " al)                                                             \n",
      "                                                                 \n",
      "=================================================================\n",
      "Total params: 65,265\n",
      "Trainable params: 65,265\n",
      "Non-trainable params: 0\n",
      "_________________________________________________________________\n"
     ]
    }
   ],
   "source": [
    "VAE_input = tfk.Input(shape=(28, 28, 1))\n",
    "\n",
    "encoded_distrib_params = Encoder(VAE_input)\n",
    "\n",
    "decoded_img = Decoder(encoded_distrib_params)\n",
    "\n",
    "VAE_output = [decoded_img, encoded_distrib_params]\n",
    "\n",
    "model = tfk.Model(inputs=VAE_input, outputs=VAE_output, name='mnist_vae')\n",
    "model.summary()"
   ]
  },
  {
   "cell_type": "markdown",
   "id": "bd7a1a6b",
   "metadata": {},
   "source": [
    "## Load the MNIST dataset"
   ]
  },
  {
   "cell_type": "code",
   "execution_count": 24,
   "id": "likely-workshop",
   "metadata": {
    "executionInfo": {
     "elapsed": 782,
     "status": "ok",
     "timestamp": 1695500914499,
     "user": {
      "displayName": "Hubert Bretonnière",
      "userId": "08002742844158188485"
     },
     "user_tz": 420
    },
    "id": "likely-workshop"
   },
   "outputs": [],
   "source": [
    "(x_train, y_train), (x_test, y_test) = tfk.datasets.mnist.load_data()\n",
    "\n",
    "x_train = x_train.reshape(-1, 28, 28, 1).astype('float32') / 255\n",
    "x_test = x_test.reshape(-1, 28, 28, 1).astype('float32') / 255\n",
    "x_train = tf.data.Dataset.from_tensor_slices(x_train).batch(128)\n"
   ]
  },
  {
   "cell_type": "markdown",
   "id": "a25e9faa",
   "metadata": {},
   "source": [
    "## Loss\n",
    "\n",
    "Our loss is a reconstruction loss (classic AE loss) and the KL. Using Gaussian as priors, the KL has a very simple expression.\n",
    "Check the computation on internet to see how we get this expression.\n",
    "We use a beta=1, i.e. a equal weight for the rec and kl loss."
   ]
  },
  {
   "cell_type": "code",
   "execution_count": 27,
   "id": "sustained-anxiety",
   "metadata": {
    "executionInfo": {
     "elapsed": 7,
     "status": "ok",
     "timestamp": 1695500914500,
     "user": {
      "displayName": "Hubert Bretonnière",
      "userId": "08002742844158188485"
     },
     "user_tz": 420
    },
    "id": "sustained-anxiety"
   },
   "outputs": [],
   "source": [
    "def loss_fn(y_true, y_predict, beta=1):\n",
    "    \n",
    "    reconstruct = y_predict[0]\n",
    "    rec_loss_batch = tf.reduce_sum(tf.keras.losses.binary_crossentropy(y_true, reconstruct), axis=[1, 2])\n",
    "    rec_loss = tf.reduce_mean(rec_loss_batch)\n",
    "\n",
    "    z_mean, z_sigma = y_predict[1][:, :latent_dim], y_predict[1][:, latent_dim:]\n",
    "    kl_loss_batch = -0.5 * tf.reduce_sum(z_sigma - tf.square(z_mean) - tf.exp(z_sigma) + 1, axis=1)\n",
    "    kl_loss = tf.reduce_mean(kl_loss_batch)\n",
    "    loss = rec_loss + beta*kl_loss\n",
    "\n",
    "    return loss, rec_loss, kl_loss\n",
    "\n",
    "\n"
   ]
  },
  {
   "cell_type": "markdown",
   "id": "84f0dbc7",
   "metadata": {},
   "source": [
    "### optimizers"
   ]
  },
  {
   "cell_type": "code",
   "execution_count": 28,
   "id": "fb60c529",
   "metadata": {},
   "outputs": [],
   "source": [
    "optimizer = tfk.optimizers.Adam(learning_rate=0.005)"
   ]
  },
  {
   "cell_type": "markdown",
   "id": "862e8d5e",
   "metadata": {},
   "source": [
    "## Custom train function"
   ]
  },
  {
   "cell_type": "code",
   "execution_count": 29,
   "id": "8f3255d1",
   "metadata": {},
   "outputs": [],
   "source": [
    "@tf.function\n",
    "def train_step(x):\n",
    "    with tf.GradientTape() as tape:\n",
    "        prediction = model(x)\n",
    "        tot_loss, rec_loss, kl_loss = loss_fn(x, prediction)\n",
    "\n",
    "        grads = tape.gradient(tot_loss, model.trainable_variables)\n",
    "\n",
    "    optimizer.apply_gradients(zip(grads, model.trainable_variables))\n",
    "\n",
    "    return tot_loss, rec_loss, kl_loss"
   ]
  },
  {
   "cell_type": "code",
   "execution_count": 26,
   "id": "conditional-honduras",
   "metadata": {
    "executionInfo": {
     "elapsed": 6,
     "status": "ok",
     "timestamp": 1695500914500,
     "user": {
      "displayName": "Hubert Bretonnière",
      "userId": "08002742844158188485"
     },
     "user_tz": 420
    },
    "id": "conditional-honduras"
   },
   "outputs": [],
   "source": []
  },
  {
   "cell_type": "markdown",
   "id": "7f42651a",
   "metadata": {},
   "source": [
    "## Training Loop\n",
    "\n",
    "On a cpu, it can take up to 10 minutes"
   ]
  },
  {
   "cell_type": "code",
   "execution_count": 31,
   "id": "brown-charleston",
   "metadata": {
    "colab": {
     "base_uri": "https://localhost:8080/"
    },
    "executionInfo": {
     "elapsed": 33288,
     "status": "ok",
     "timestamp": 1695500947783,
     "user": {
      "displayName": "Hubert Bretonnière",
      "userId": "08002742844158188485"
     },
     "user_tz": 420
    },
    "id": "brown-charleston",
    "outputId": "b124150e-a886-4265-a3e2-f2b340cf9def"
   },
   "outputs": [
    {
     "name": "stderr",
     "output_type": "stream",
     "text": [
      "Conv VAE, loss=112.167: 100%|██████████| 20/20 [10:56<00:00, 32.81s/it]\n"
     ]
    }
   ],
   "source": [
    "nb_epochs = 20\n",
    "\n",
    "test_train = []\n",
    "tot_loss_results = []\n",
    "rec_loss_results = []\n",
    "kl_loss_results = []\n",
    "\n",
    "t = trange(nb_epochs, desc='Convo VAE')\n",
    "\n",
    "\n",
    "''' Training Loop'''\n",
    "for epoch in t:\n",
    "    epoch_loss_avg = tf.keras.metrics.Mean()\n",
    "    for i, features in enumerate(x_train):\n",
    "        losses = train_step(features)\n",
    "        tot_loss_results.append(losses[0])\n",
    "        rec_loss_results.append(losses[1])\n",
    "        kl_loss_results.append(losses[2])\n",
    "\n",
    "    t.set_description('Conv VAE, loss=%g' % tot_loss_results[-1])\n"
   ]
  },
  {
   "cell_type": "code",
   "execution_count": 34,
   "id": "annoying-square",
   "metadata": {
    "colab": {
     "base_uri": "https://localhost:8080/",
     "height": 256
    },
    "executionInfo": {
     "elapsed": 1108,
     "status": "ok",
     "timestamp": 1695500948882,
     "user": {
      "displayName": "Hubert Bretonnière",
      "userId": "08002742844158188485"
     },
     "user_tz": 420
    },
    "id": "annoying-square",
    "outputId": "6da8cede-16f9-4b73-a052-62c8902f443b"
   },
   "outputs": [
    {
     "data": {
      "text/plain": [
       "[Text(0.5, 0, 'Step'), Text(0.5, 0, 'Step'), Text(0.5, 0, 'Step')]"
      ]
     },
     "execution_count": 34,
     "metadata": {},
     "output_type": "execute_result"
    },
    {
     "data": {
      "image/png": "[encoded data removed]",
      "text/plain": [
       "<Figure size 1500x500 with 3 Axes>"
      ]
     },
     "metadata": {},
     "output_type": "display_data"
    }
   ],
   "source": [
    "fig, ax = plt.subplots(1, 3, figsize=(15, 5))\n",
    "ax[0].plot(np.arange(len(rec_loss_results)), rec_loss_results)\n",
    "ax[1].plot(np.arange(len(kl_loss_results)), kl_loss_results)\n",
    "ax[2].plot(np.arange(len(tot_loss_results)), tot_loss_results)\n",
    "\n",
    "[ax[i].set_yscale('log') for i in range(3)]\n",
    "\n",
    "ax[0].set_ylabel('MSE')\n",
    "ax[1].set_ylabel('KL')\n",
    "ax[2].set_ylabel('Total_loss')\n",
    "\n",
    "[ax[i].set_xlabel('Step') for i in range(3)]"
   ]
  },
  {
   "cell_type": "markdown",
   "id": "9d2688f9",
   "metadata": {},
   "source": [
    "## Plot some reconstruction"
   ]
  },
  {
   "cell_type": "code",
   "execution_count": 35,
   "id": "engaging-spiritual",
   "metadata": {
    "colab": {
     "base_uri": "https://localhost:8080/",
     "height": 1000
    },
    "executionInfo": {
     "elapsed": 2869,
     "status": "ok",
     "timestamp": 1695500951744,
     "user": {
      "displayName": "Hubert Bretonnière",
      "userId": "08002742844158188485"
     },
     "user_tz": 420
    },
    "id": "engaging-spiritual",
    "outputId": "1c6e191f-a3d3-4eb1-ae5e-a55d3f01b6e7"
   },
   "outputs": [
    {
     "data": {
      "image/png": "[encoded data removed]",
      "text/plain": [
       "<Figure size 500x1500 with 20 Axes>"
      ]
     },
     "metadata": {},
     "output_type": "display_data"
    }
   ],
   "source": [
    "fig, ax = plt.subplots(10, 2, figsize=(5, 15))\n",
    "for i in range(10):\n",
    "    ax[i, 0].imshow(x_test[i])\n",
    "    ax[i, 1].imshow(model(x_test[i:i+1])[0].numpy()[0, :, :, 0])"
   ]
  },
  {
   "cell_type": "markdown",
   "id": "8db49a38",
   "metadata": {},
   "source": [
    "# Exercise:\n",
    "\n",
    "Sample new example by sampling from a normal gaussian\n"
   ]
  },
  {
   "cell_type": "code",
   "execution_count": null,
   "id": "sURhQCYlutIx",
   "metadata": {
    "id": "sURhQCYlutIx"
   },
   "outputs": [],
   "source": []
  }
 ],
 "metadata": {
  "accelerator": "GPU",
  "colab": {
   "gpuType": "T4",
   "provenance": [
    {
     "file_id": "https://github.com/hbretonniere/ucsc_ml_intro/blob/master/VAE_mnist.ipynb",
     "timestamp": 1695500626605
    }
   ]
  },
  "kernelspec": {
   "display_name": "Python 3 (ipykernel)",
   "language": "python",
   "name": "python3"
  },
  "language_info": {
   "codemirror_mode": {
    "name": "ipython",
    "version": 3
   },
   "file_extension": ".py",
   "mimetype": "text/x-python",
   "name": "python",
   "nbconvert_exporter": "python",
   "pygments_lexer": "ipython3",
   "version": "3.8.3"
  }
 },
 "nbformat": 4,
 "nbformat_minor": 5
}
